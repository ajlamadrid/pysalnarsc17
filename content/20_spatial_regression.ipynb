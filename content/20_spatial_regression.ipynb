{
 "cells": [
  {
   "cell_type": "markdown",
   "metadata": {},
   "source": [
    "# Spatial regression\n",
    "\n",
    "> **NOTE**: some of this material has been ported and adapted from the PySAL/spreg code for Chapter 5-13 in *Modern Spatial Econometrics in Practice: A Guide to GeoDa, GeoDaSpace and PySAL* by Luc Anselin and Sergio J. Rey. (c) 2014 Luc Anselin and Sergio J. Rey, All Rights Reserved.\n",
    "\n",
    "* [Basic OLS](#Basic-OLS)\n",
    "    * Nonspatial diagnostics\n",
    "    * Spatial diagnostics - spatial specification\n",
    "* [Spatial Lag Model](#Spatial-Lag-Model)\n",
    "    * Spatial two Stage Least Squares (S2SLS)\n",
    "        * Spatial diagnostics\n",
    "        * Interpretation\n",
    "            * Direct impact\n",
    "            * Indirect impact\n",
    "* [Spatial Model with Lag and Error](#Spatial-Model-with-Lag-and-Error)\n",
    "    \n",
    "* [Spatial error model](#Spatial-Error-Model)"
   ]
  },
  {
   "cell_type": "markdown",
   "metadata": {},
   "source": [
    "## Basic Regression Setup##"
   ]
  },
  {
   "cell_type": "markdown",
   "metadata": {},
   "source": [
    "**Creating arrays for y and x using the Baltimore house price example**"
   ]
  },
  {
   "cell_type": "markdown",
   "metadata": {},
   "source": [
    "Preliminaries, importing **numpy** and **PySAL**"
   ]
  },
  {
   "cell_type": "code",
   "execution_count": 1,
   "metadata": {},
   "outputs": [
    {
     "name": "stdout",
     "output_type": "stream",
     "text": [
      "Populating the interactive namespace from numpy and matplotlib\n"
     ]
    }
   ],
   "source": [
    "%pylab inline"
   ]
  },
  {
   "cell_type": "code",
   "execution_count": 2,
   "metadata": {},
   "outputs": [],
   "source": [
    "import numpy as np\n",
    "import pysal as ps"
   ]
  },
  {
   "cell_type": "markdown",
   "metadata": {},
   "source": [
    "Loading the data set **baltim.dbf** from pysal exmaple datasets and creating the data object."
   ]
  },
  {
   "cell_type": "code",
   "execution_count": 3,
   "metadata": {},
   "outputs": [
    {
     "data": {
      "text/plain": [
       "[u'STATION',\n",
       " u'PRICE',\n",
       " u'NROOM',\n",
       " u'DWELL',\n",
       " u'NBATH',\n",
       " u'PATIO',\n",
       " u'FIREPL',\n",
       " u'AC',\n",
       " u'BMENT',\n",
       " u'NSTOR',\n",
       " u'GAR',\n",
       " u'AGE',\n",
       " u'CITCOU',\n",
       " u'LOTSZ',\n",
       " u'SQFT',\n",
       " u'X',\n",
       " u'Y']"
      ]
     },
     "execution_count": 3,
     "metadata": {},
     "output_type": "execute_result"
    }
   ],
   "source": [
    "db = ps.open(ps.examples.get_path(\"baltim.dbf\"),'r')\n",
    "db.header"
   ]
  },
  {
   "cell_type": "markdown",
   "metadata": {},
   "source": [
    "Check how many observations:"
   ]
  },
  {
   "cell_type": "code",
   "execution_count": 4,
   "metadata": {},
   "outputs": [
    {
     "data": {
      "text/plain": [
       "211"
      ]
     },
     "execution_count": 4,
     "metadata": {},
     "output_type": "execute_result"
    }
   ],
   "source": [
    "len(db)"
   ]
  },
  {
   "cell_type": "markdown",
   "metadata": {},
   "source": [
    "**y** - dependent variable is PRICE"
   ]
  },
  {
   "cell_type": "code",
   "execution_count": 5,
   "metadata": {},
   "outputs": [],
   "source": [
    "y_name = \"PRICE\""
   ]
  },
  {
   "cell_type": "code",
   "execution_count": 6,
   "metadata": {},
   "outputs": [
    {
     "data": {
      "image/png": "[encoded data removed]",
      "text/plain": [
       "<matplotlib.figure.Figure at 0x119fa7bd0>"
      ]
     },
     "metadata": {},
     "output_type": "display_data"
    }
   ],
   "source": [
    "from pysal.contrib.viz import mapping as maps\n",
    "db_pd = ps.pdio.read_files(ps.examples.get_path(\"baltim.shp\"))\n",
    "fig, ax = plt.subplots(1, figsize=(6, 6))\n",
    "maps.geoplot(db_pd, y_name,ax=ax, palette='OrRd',classi=\"Equal_Interval\")"
   ]
  },
  {
   "cell_type": "markdown",
   "metadata": {},
   "source": [
    "Create the y array as a n by 1 column vector (hence the transpose **T**)"
   ]
  },
  {
   "cell_type": "code",
   "execution_count": 7,
   "metadata": {},
   "outputs": [],
   "source": [
    "y = np.array([db.by_col(y_name)]).T"
   ]
  },
  {
   "cell_type": "markdown",
   "metadata": {},
   "source": [
    "Check on the dimensions"
   ]
  },
  {
   "cell_type": "code",
   "execution_count": 8,
   "metadata": {},
   "outputs": [
    {
     "data": {
      "text/plain": [
       "(211, 1)"
      ]
     },
     "execution_count": 8,
     "metadata": {},
     "output_type": "execute_result"
    }
   ],
   "source": [
    "y.shape"
   ]
  },
  {
   "cell_type": "markdown",
   "metadata": {},
   "source": [
    "**x** - the explanatory variables\n",
    "\n",
    "First create a list with the variable names, then use a list comprehension to create the **x** array"
   ]
  },
  {
   "cell_type": "code",
   "execution_count": 9,
   "metadata": {},
   "outputs": [],
   "source": [
    "x_names = ['NROOM','NBATH','PATIO','FIREPL','AC','GAR','AGE',\n",
    "           'LOTSZ','SQFT']\n",
    "x = np.array([db.by_col(var) for var in x_names]).T"
   ]
  },
  {
   "cell_type": "markdown",
   "metadata": {},
   "source": [
    "Check on dimensions"
   ]
  },
  {
   "cell_type": "code",
   "execution_count": 10,
   "metadata": {},
   "outputs": [
    {
     "data": {
      "text/plain": [
       "(211, 9)"
      ]
     },
     "execution_count": 10,
     "metadata": {},
     "output_type": "execute_result"
    }
   ],
   "source": [
    "x.shape"
   ]
  },
  {
   "cell_type": "markdown",
   "metadata": {},
   "source": [
    "**Model weights** - needed for spatial diagnostics"
   ]
  },
  {
   "cell_type": "markdown",
   "metadata": {},
   "source": [
    "k nearest neighbor with k=4 constructed from **baltim.shp**, using STATION as the ID variable"
   ]
  },
  {
   "cell_type": "code",
   "execution_count": 11,
   "metadata": {},
   "outputs": [],
   "source": [
    "w = ps.knnW_from_shapefile(ps.examples.get_path('baltim.shp'),k=4,idVariable='STATION')"
   ]
  },
  {
   "cell_type": "markdown",
   "metadata": {},
   "source": [
    "Quick check on dimension"
   ]
  },
  {
   "cell_type": "code",
   "execution_count": 12,
   "metadata": {},
   "outputs": [
    {
     "data": {
      "text/plain": [
       "211"
      ]
     },
     "execution_count": 12,
     "metadata": {},
     "output_type": "execute_result"
    }
   ],
   "source": [
    "w.n"
   ]
  },
  {
   "cell_type": "code",
   "execution_count": 13,
   "metadata": {},
   "outputs": [
    {
     "data": {
      "text/plain": [
       "[(4, 211)]"
      ]
     },
     "execution_count": 13,
     "metadata": {},
     "output_type": "execute_result"
    }
   ],
   "source": [
    "w.histogram"
   ]
  },
  {
   "cell_type": "markdown",
   "metadata": {},
   "source": [
    "row-standardize - is **always** necessary"
   ]
  },
  {
   "cell_type": "code",
   "execution_count": 14,
   "metadata": {},
   "outputs": [],
   "source": [
    "w.transform = 'r'"
   ]
  },
  {
   "cell_type": "markdown",
   "metadata": {},
   "source": [
    "Quick check on the values of the weights"
   ]
  },
  {
   "cell_type": "code",
   "execution_count": 15,
   "metadata": {},
   "outputs": [
    {
     "data": {
      "text/plain": [
       "[0.25, 0.25, 0.25, 0.25]"
      ]
     },
     "execution_count": 15,
     "metadata": {},
     "output_type": "execute_result"
    }
   ],
   "source": [
    "w.weights[1]"
   ]
  },
  {
   "cell_type": "markdown",
   "metadata": {},
   "source": [
    "## Basic OLS "
   ]
  },
  {
   "cell_type": "markdown",
   "metadata": {},
   "source": [
    "**OLS with variable and data set names**\n",
    "\n",
    "$$\\mathbf{y}=\\mathbf{X} \\beta + \\mathbf{\\epsilon}$$"
   ]
  },
  {
   "cell_type": "code",
   "execution_count": 16,
   "metadata": {},
   "outputs": [],
   "source": [
    "ols1a = ps.spreg.OLS(y,x,name_y=y_name,name_x=x_names, name_ds='baltim.shp')"
   ]
  },
  {
   "cell_type": "code",
   "execution_count": 17,
   "metadata": {},
   "outputs": [
    {
     "name": "stdout",
     "output_type": "stream",
     "text": [
      "REGRESSION\n",
      "----------\n",
      "SUMMARY OF OUTPUT: ORDINARY LEAST SQUARES\n",
      "-----------------------------------------\n",
      "Data set            :  baltim.shp\n",
      "Weights matrix      :        None\n",
      "Dependent Variable  :       PRICE                Number of Observations:         211\n",
      "Mean dependent var  :     44.3072                Number of Variables   :          10\n",
      "S.D. dependent var  :     23.6061                Degrees of Freedom    :         201\n",
      "R-squared           :      0.6500\n",
      "Adjusted R-squared  :      0.6343\n",
      "Sum squared residual:   40960.463                F-statistic           :     41.4718\n",
      "Sigma-square        :     203.783                Prob(F-statistic)     :    3.24e-41\n",
      "S.E. of regression  :      14.275                Log likelihood        :    -855.223\n",
      "Sigma-square ML     :     194.125                Akaike info criterion :    1730.446\n",
      "S.E of regression ML:     13.9329                Schwarz criterion     :    1763.965\n",
      "\n",
      "------------------------------------------------------------------------------------\n",
      "            Variable     Coefficient       Std.Error     t-Statistic     Probability\n",
      "------------------------------------------------------------------------------------\n",
      "            CONSTANT      23.2699963       5.2241658       4.4542989       0.0000140\n",
      "               NROOM       0.2224935       1.2279277       0.1811943       0.8563976\n",
      "               NBATH       5.6484051       2.0182820       2.7986204       0.0056318\n",
      "               PATIO      10.3358755       3.1202987       3.3124635       0.0010966\n",
      "              FIREPL      11.1727277       2.7323132       4.0891094       0.0000626\n",
      "                  AC       7.8541637       2.7024343       2.9063292       0.0040671\n",
      "                 GAR       5.4020685       1.9636140       2.7510848       0.0064824\n",
      "                 AGE      -0.2134550       0.0573535      -3.7217456       0.0002568\n",
      "               LOTSZ       0.0949064       0.0165355       5.7395480       0.0000000\n",
      "                SQFT       0.1877562       0.1890598       0.9931047       0.3218530\n",
      "------------------------------------------------------------------------------------\n",
      "\n",
      "REGRESSION DIAGNOSTICS\n",
      "MULTICOLLINEARITY CONDITION NUMBER           20.609\n",
      "\n",
      "TEST ON NORMALITY OF ERRORS\n",
      "TEST                             DF        VALUE           PROB\n",
      "Jarque-Bera                       2         429.933           0.0000\n",
      "\n",
      "DIAGNOSTICS FOR HETEROSKEDASTICITY\n",
      "RANDOM COEFFICIENTS\n",
      "TEST                             DF        VALUE           PROB\n",
      "Breusch-Pagan test                9         167.792           0.0000\n",
      "Koenker-Bassett test              9          39.197           0.0000\n",
      "================================ END OF REPORT =====================================\n"
     ]
    }
   ],
   "source": [
    "print ols1a.summary"
   ]
  },
  {
   "cell_type": "markdown",
   "metadata": {},
   "source": [
    "## OLS with White Test"
   ]
  },
  {
   "cell_type": "markdown",
   "metadata": {},
   "source": [
    "set **white_test = True**"
   ]
  },
  {
   "cell_type": "code",
   "execution_count": 18,
   "metadata": {},
   "outputs": [],
   "source": [
    "ols2 = ps.spreg.OLS(y,x,white_test=True,name_y=y_name,name_x=x_names,name_ds='baltim.shp')"
   ]
  },
  {
   "cell_type": "code",
   "execution_count": 19,
   "metadata": {},
   "outputs": [
    {
     "name": "stdout",
     "output_type": "stream",
     "text": [
      "REGRESSION\n",
      "----------\n",
      "SUMMARY OF OUTPUT: ORDINARY LEAST SQUARES\n",
      "-----------------------------------------\n",
      "Data set            :  baltim.shp\n",
      "Weights matrix      :        None\n",
      "Dependent Variable  :       PRICE                Number of Observations:         211\n",
      "Mean dependent var  :     44.3072                Number of Variables   :          10\n",
      "S.D. dependent var  :     23.6061                Degrees of Freedom    :         201\n",
      "R-squared           :      0.6500\n",
      "Adjusted R-squared  :      0.6343\n",
      "Sum squared residual:   40960.463                F-statistic           :     41.4718\n",
      "Sigma-square        :     203.783                Prob(F-statistic)     :    3.24e-41\n",
      "S.E. of regression  :      14.275                Log likelihood        :    -855.223\n",
      "Sigma-square ML     :     194.125                Akaike info criterion :    1730.446\n",
      "S.E of regression ML:     13.9329                Schwarz criterion     :    1763.965\n",
      "\n",
      "------------------------------------------------------------------------------------\n",
      "            Variable     Coefficient       Std.Error     t-Statistic     Probability\n",
      "------------------------------------------------------------------------------------\n",
      "            CONSTANT      23.2699963       5.2241658       4.4542989       0.0000140\n",
      "               NROOM       0.2224935       1.2279277       0.1811943       0.8563976\n",
      "               NBATH       5.6484051       2.0182820       2.7986204       0.0056318\n",
      "               PATIO      10.3358755       3.1202987       3.3124635       0.0010966\n",
      "              FIREPL      11.1727277       2.7323132       4.0891094       0.0000626\n",
      "                  AC       7.8541637       2.7024343       2.9063292       0.0040671\n",
      "                 GAR       5.4020685       1.9636140       2.7510848       0.0064824\n",
      "                 AGE      -0.2134550       0.0573535      -3.7217456       0.0002568\n",
      "               LOTSZ       0.0949064       0.0165355       5.7395480       0.0000000\n",
      "                SQFT       0.1877562       0.1890598       0.9931047       0.3218530\n",
      "------------------------------------------------------------------------------------\n",
      "\n",
      "REGRESSION DIAGNOSTICS\n",
      "MULTICOLLINEARITY CONDITION NUMBER           20.609\n",
      "\n",
      "TEST ON NORMALITY OF ERRORS\n",
      "TEST                             DF        VALUE           PROB\n",
      "Jarque-Bera                       2         429.933           0.0000\n",
      "\n",
      "DIAGNOSTICS FOR HETEROSKEDASTICITY\n",
      "RANDOM COEFFICIENTS\n",
      "TEST                             DF        VALUE           PROB\n",
      "Breusch-Pagan test                9         167.792           0.0000\n",
      "Koenker-Bassett test              9          39.197           0.0000\n",
      "\n",
      "SPECIFICATION ROBUST TEST\n",
      "TEST                             DF        VALUE           PROB\n",
      "White                            51         164.335           0.0000\n",
      "================================ END OF REPORT =====================================\n"
     ]
    }
   ],
   "source": [
    "print ols2.summary"
   ]
  },
  {
   "cell_type": "markdown",
   "metadata": {},
   "source": [
    "now the **White** test is included as one of the diagnostics"
   ]
  },
  {
   "cell_type": "markdown",
   "metadata": {},
   "source": [
    "## OLS with Spatial Diagnostics"
   ]
  },
  {
   "cell_type": "markdown",
   "metadata": {},
   "source": [
    "specify the weights (**w**) and set **spat_diag = True** and **moran = True**\n",
    "\n",
    "specify a name for the weights in **name_w**, all the rest is as before\n",
    "\n",
    "for convenience, white_test is back to default of False"
   ]
  },
  {
   "cell_type": "code",
   "execution_count": 20,
   "metadata": {},
   "outputs": [],
   "source": [
    "ols3 = ps.spreg.OLS(y,x,w=w,spat_diag=True,moran=True,\n",
    "                       name_y=y_name,name_x=x_names,name_w='baltim_k4',\n",
    "                       name_ds='baltim.shp')"
   ]
  },
  {
   "cell_type": "code",
   "execution_count": 21,
   "metadata": {},
   "outputs": [
    {
     "name": "stdout",
     "output_type": "stream",
     "text": [
      "REGRESSION\n",
      "----------\n",
      "SUMMARY OF OUTPUT: ORDINARY LEAST SQUARES\n",
      "-----------------------------------------\n",
      "Data set            :  baltim.shp\n",
      "Weights matrix      :   baltim_k4\n",
      "Dependent Variable  :       PRICE                Number of Observations:         211\n",
      "Mean dependent var  :     44.3072                Number of Variables   :          10\n",
      "S.D. dependent var  :     23.6061                Degrees of Freedom    :         201\n",
      "R-squared           :      0.6500\n",
      "Adjusted R-squared  :      0.6343\n",
      "Sum squared residual:   40960.463                F-statistic           :     41.4718\n",
      "Sigma-square        :     203.783                Prob(F-statistic)     :    3.24e-41\n",
      "S.E. of regression  :      14.275                Log likelihood        :    -855.223\n",
      "Sigma-square ML     :     194.125                Akaike info criterion :    1730.446\n",
      "S.E of regression ML:     13.9329                Schwarz criterion     :    1763.965\n",
      "\n",
      "------------------------------------------------------------------------------------\n",
      "            Variable     Coefficient       Std.Error     t-Statistic     Probability\n",
      "------------------------------------------------------------------------------------\n",
      "            CONSTANT      23.2699963       5.2241658       4.4542989       0.0000140\n",
      "               NROOM       0.2224935       1.2279277       0.1811943       0.8563976\n",
      "               NBATH       5.6484051       2.0182820       2.7986204       0.0056318\n",
      "               PATIO      10.3358755       3.1202987       3.3124635       0.0010966\n",
      "              FIREPL      11.1727277       2.7323132       4.0891094       0.0000626\n",
      "                  AC       7.8541637       2.7024343       2.9063292       0.0040671\n",
      "                 GAR       5.4020685       1.9636140       2.7510848       0.0064824\n",
      "                 AGE      -0.2134550       0.0573535      -3.7217456       0.0002568\n",
      "               LOTSZ       0.0949064       0.0165355       5.7395480       0.0000000\n",
      "                SQFT       0.1877562       0.1890598       0.9931047       0.3218530\n",
      "------------------------------------------------------------------------------------\n",
      "\n",
      "REGRESSION DIAGNOSTICS\n",
      "MULTICOLLINEARITY CONDITION NUMBER           20.609\n",
      "\n",
      "TEST ON NORMALITY OF ERRORS\n",
      "TEST                             DF        VALUE           PROB\n",
      "Jarque-Bera                       2         429.933           0.0000\n",
      "\n",
      "DIAGNOSTICS FOR HETEROSKEDASTICITY\n",
      "RANDOM COEFFICIENTS\n",
      "TEST                             DF        VALUE           PROB\n",
      "Breusch-Pagan test                9         167.792           0.0000\n",
      "Koenker-Bassett test              9          39.197           0.0000\n",
      "\n",
      "DIAGNOSTICS FOR SPATIAL DEPENDENCE\n",
      "TEST                           MI/DF       VALUE           PROB\n",
      "Moran's I (error)              0.1057         2.613           0.0090\n",
      "Lagrange Multiplier (lag)         1          31.407           0.0000\n",
      "Robust LM (lag)                   1          29.685           0.0000\n",
      "Lagrange Multiplier (error)       1           5.283           0.0215\n",
      "Robust LM (error)                 1           3.560           0.0592\n",
      "Lagrange Multiplier (SARMA)       2          34.967           0.0000\n",
      "\n",
      "================================ END OF REPORT =====================================\n"
     ]
    }
   ],
   "source": [
    "print ols3.summary"
   ]
  },
  {
   "cell_type": "markdown",
   "metadata": {},
   "source": [
    "diagnostics for spatial dependence at the bottom of the listing\n",
    "\n",
    "Pointing to a spatial lag or a SARMA specification? Let's run both of them"
   ]
  },
  {
   "cell_type": "markdown",
   "metadata": {},
   "source": [
    "## Spatial Lag Model\n",
    "$$\\mathbf{y}= \\rho \\mathbf{Wy} + \\mathbf{X} \\beta + \\mathbf{\\epsilon}$$"
   ]
  },
  {
   "cell_type": "markdown",
   "metadata": {},
   "source": [
    "### Spatial two Stage Least Squares (S2SLS)\n",
    "\n",
    "The endogeneity of the lagged dependent variable $\\mathbf{Wy}$ can be dealt with by using instrumental variables $[\\mathbf{X}, \\mathbf{WX}, \\mathbf{W^2X}]$.\n",
    "\n",
    "The default setting of instrumental variables in PySAL `GM_Lag` includes exogeneous variables and their first-oder spatial lags $[\\mathbf{X}, \\mathbf{WX}]$."
   ]
  },
  {
   "cell_type": "code",
   "execution_count": 22,
   "metadata": {},
   "outputs": [],
   "source": [
    "S2SLS1 = ps.spreg.GM_Lag(y,x,w=w,name_y=y_name,name_x=x_names,name_w='baltim_k4',name_ds='baltim')"
   ]
  },
  {
   "cell_type": "code",
   "execution_count": 23,
   "metadata": {},
   "outputs": [
    {
     "name": "stdout",
     "output_type": "stream",
     "text": [
      "REGRESSION\n",
      "----------\n",
      "SUMMARY OF OUTPUT: SPATIAL TWO STAGE LEAST SQUARES\n",
      "--------------------------------------------------\n",
      "Data set            :      baltim\n",
      "Weights matrix      :   baltim_k4\n",
      "Dependent Variable  :       PRICE                Number of Observations:         211\n",
      "Mean dependent var  :     44.3072                Number of Variables   :          11\n",
      "S.D. dependent var  :     23.6061                Degrees of Freedom    :         200\n",
      "Pseudo R-squared    :      0.7083\n",
      "Spatial Pseudo R-squared:  0.6820\n",
      "\n",
      "------------------------------------------------------------------------------------\n",
      "            Variable     Coefficient       Std.Error     z-Statistic     Probability\n",
      "------------------------------------------------------------------------------------\n",
      "            CONSTANT      -0.0625980       5.8254085      -0.0107457       0.9914263\n",
      "               NROOM       1.0193546       1.1007833       0.9260266       0.3544322\n",
      "               NBATH       5.5644252       1.7986364       3.0936910       0.0019768\n",
      "               PATIO       7.0723888       2.8234577       2.5048680       0.0122497\n",
      "              FIREPL       7.3051619       2.5031259       2.9184157       0.0035181\n",
      "                  AC       6.1299283       2.4221367       2.5307937       0.0113805\n",
      "                 GAR       3.4102969       1.7752218       1.9210539       0.0547249\n",
      "                 AGE      -0.0908101       0.0543237      -1.6716465       0.0945941\n",
      "               LOTSZ       0.0659957       0.0153611       4.2962809       0.0000174\n",
      "                SQFT       0.0627993       0.1695211       0.3704509       0.7110465\n",
      "             W_PRICE       0.5043129       0.0756850       6.6633137       0.0000000\n",
      "------------------------------------------------------------------------------------\n",
      "Instrumented: W_PRICE\n",
      "Instruments: W_AC, W_AGE, W_FIREPL, W_GAR, W_LOTSZ, W_NBATH, W_NROOM,\n",
      "             W_PATIO, W_SQFT\n",
      "================================ END OF REPORT =====================================\n"
     ]
    }
   ],
   "source": [
    "print S2SLS1.summary"
   ]
  },
  {
   "cell_type": "markdown",
   "metadata": {},
   "source": [
    "#### including spatial diagnostics, set `spat_diag=True`"
   ]
  },
  {
   "cell_type": "code",
   "execution_count": 24,
   "metadata": {},
   "outputs": [
    {
     "name": "stdout",
     "output_type": "stream",
     "text": [
      "REGRESSION\n",
      "----------\n",
      "SUMMARY OF OUTPUT: SPATIAL TWO STAGE LEAST SQUARES\n",
      "--------------------------------------------------\n",
      "Data set            :      baltim\n",
      "Weights matrix      :   baltim_k4\n",
      "Dependent Variable  :       PRICE                Number of Observations:         211\n",
      "Mean dependent var  :     44.3072                Number of Variables   :          11\n",
      "S.D. dependent var  :     23.6061                Degrees of Freedom    :         200\n",
      "Pseudo R-squared    :      0.7083\n",
      "Spatial Pseudo R-squared:  0.6820\n",
      "\n",
      "------------------------------------------------------------------------------------\n",
      "            Variable     Coefficient       Std.Error     z-Statistic     Probability\n",
      "------------------------------------------------------------------------------------\n",
      "            CONSTANT      -0.0625980       5.8254085      -0.0107457       0.9914263\n",
      "               NROOM       1.0193546       1.1007833       0.9260266       0.3544322\n",
      "               NBATH       5.5644252       1.7986364       3.0936910       0.0019768\n",
      "               PATIO       7.0723888       2.8234577       2.5048680       0.0122497\n",
      "              FIREPL       7.3051619       2.5031259       2.9184157       0.0035181\n",
      "                  AC       6.1299283       2.4221367       2.5307937       0.0113805\n",
      "                 GAR       3.4102969       1.7752218       1.9210539       0.0547249\n",
      "                 AGE      -0.0908101       0.0543237      -1.6716465       0.0945941\n",
      "               LOTSZ       0.0659957       0.0153611       4.2962809       0.0000174\n",
      "                SQFT       0.0627993       0.1695211       0.3704509       0.7110465\n",
      "             W_PRICE       0.5043129       0.0756850       6.6633137       0.0000000\n",
      "------------------------------------------------------------------------------------\n",
      "Instrumented: W_PRICE\n",
      "Instruments: W_AC, W_AGE, W_FIREPL, W_GAR, W_LOTSZ, W_NBATH, W_NROOM,\n",
      "             W_PATIO, W_SQFT\n",
      "\n",
      "DIAGNOSTICS FOR SPATIAL DEPENDENCE\n",
      "TEST                           MI/DF       VALUE           PROB\n",
      "Anselin-Kelejian Test             1           3.808          0.0510\n",
      "================================ END OF REPORT =====================================\n"
     ]
    }
   ],
   "source": [
    "S2SLS1_sp = ps.spreg.GM_Lag(y,x,w=w,spat_diag=True,\n",
    "                          name_y=y_name,name_x=x_names,\n",
    "                          name_w='baltim_k4',name_ds='baltim')\n",
    "print S2SLS1_sp.summary"
   ]
  },
  {
   "cell_type": "markdown",
   "metadata": {},
   "source": [
    "### Direct & Indirect Impacts"
   ]
  },
  {
   "cell_type": "code",
   "execution_count": 25,
   "metadata": {},
   "outputs": [
    {
     "data": {
      "text/plain": [
       "array([[-0.062598  ],\n",
       "       [ 1.01935457],\n",
       "       [ 5.5644252 ],\n",
       "       [ 7.07238883],\n",
       "       [ 7.30516192],\n",
       "       [ 6.12992825],\n",
       "       [ 3.41029693],\n",
       "       [-0.09081007],\n",
       "       [ 0.06599566],\n",
       "       [ 0.06279926]])"
      ]
     },
     "execution_count": 25,
     "metadata": {},
     "output_type": "execute_result"
    }
   ],
   "source": [
    "b = S2SLS1_sp.betas[:-1]\n",
    "b"
   ]
  },
  {
   "cell_type": "code",
   "execution_count": 26,
   "metadata": {},
   "outputs": [
    {
     "data": {
      "text/plain": [
       "array([ 0.50431292])"
      ]
     },
     "execution_count": 26,
     "metadata": {},
     "output_type": "execute_result"
    }
   ],
   "source": [
    "rho = S2SLS1_sp.betas[-1]\n",
    "rho"
   ]
  },
  {
   "cell_type": "code",
   "execution_count": 27,
   "metadata": {},
   "outputs": [],
   "source": [
    "btot = b / (1.0 - rho) #direct impact\n",
    "bind = btot - b #indirect impact"
   ]
  },
  {
   "cell_type": "code",
   "execution_count": 28,
   "metadata": {},
   "outputs": [
    {
     "name": "stdout",
     "output_type": "stream",
     "text": [
      "Variable       Direct       Indirect      Total\n",
      "  CONSTANT   -0.0625980   -0.0636873   -0.1262853\n",
      "     NROOM    1.0193546    1.0370932    2.0564477\n",
      "     NBATH    5.5644252    5.6612562   11.2256814\n",
      "     PATIO    7.0723888    7.1954611   14.2678500\n",
      "    FIREPL    7.3051619    7.4322849   14.7374468\n",
      "        AC    6.1299283    6.2366001   12.3665283\n",
      "       GAR    3.4102969    3.4696422    6.8799392\n",
      "       AGE   -0.0908101   -0.0923903   -0.1832004\n",
      "     LOTSZ    0.0659957    0.0671441    0.1331398\n",
      "      SQFT    0.0627993    0.0638921    0.1266913\n"
     ]
    }
   ],
   "source": [
    "varnames = [\"CONSTANT\"] + x_names\n",
    "print \"Variable       Direct       Indirect      Total\"\n",
    "for i in range(len(varnames)):\n",
    "    print(\"%10s %12.7f %12.7f %12.7f\" % (varnames[i],b[i][0],bind[i][0],btot[i][0]))"
   ]
  },
  {
   "cell_type": "markdown",
   "metadata": {},
   "source": [
    "#### using second order spatial lags for the instruments, set `w_lags = 2`"
   ]
  },
  {
   "cell_type": "code",
   "execution_count": 29,
   "metadata": {},
   "outputs": [
    {
     "name": "stdout",
     "output_type": "stream",
     "text": [
      "REGRESSION\n",
      "----------\n",
      "SUMMARY OF OUTPUT: SPATIAL TWO STAGE LEAST SQUARES\n",
      "--------------------------------------------------\n",
      "Data set            :      baltim\n",
      "Weights matrix      :   baltim_k4\n",
      "Dependent Variable  :       PRICE                Number of Observations:         211\n",
      "Mean dependent var  :     44.3072                Number of Variables   :          11\n",
      "S.D. dependent var  :     23.6061                Degrees of Freedom    :         200\n",
      "Pseudo R-squared    :      0.7080\n",
      "Spatial Pseudo R-squared:  0.6808\n",
      "\n",
      "------------------------------------------------------------------------------------\n",
      "            Variable     Coefficient       Std.Error     z-Statistic     Probability\n",
      "------------------------------------------------------------------------------------\n",
      "            CONSTANT      -0.4328107       5.7762571      -0.0749293       0.9402710\n",
      "               NROOM       1.0319982       1.1011225       0.9372238       0.3486435\n",
      "               NBATH       5.5630927       1.7997173       3.0910926       0.0019942\n",
      "               PATIO       7.0206079       2.8230413       2.4868952       0.0128863\n",
      "              FIREPL       7.2437962       2.5012790       2.8960369       0.0037791\n",
      "                  AC       6.1025702       2.4229066       2.5186981       0.0117790\n",
      "                 GAR       3.3786940       1.7750369       1.9034500       0.0569818\n",
      "                 AGE      -0.0888641       0.0542009      -1.6395316       0.1011026\n",
      "               LOTSZ       0.0655369       0.0153398       4.2723431       0.0000193\n",
      "                SQFT       0.0608166       0.1695715       0.3586486       0.7198580\n",
      "             W_PRICE       0.5123147       0.0738216       6.9399055       0.0000000\n",
      "------------------------------------------------------------------------------------\n",
      "Instrumented: W_PRICE\n",
      "Instruments: W2_AC, W2_AGE, W2_FIREPL, W2_GAR, W2_LOTSZ, W2_NBATH, W2_NROOM,\n",
      "             W2_PATIO, W2_SQFT, W_AC, W_AGE, W_FIREPL, W_GAR, W_LOTSZ,\n",
      "             W_NBATH, W_NROOM, W_PATIO, W_SQFT\n",
      "\n",
      "DIAGNOSTICS FOR SPATIAL DEPENDENCE\n",
      "TEST                           MI/DF       VALUE           PROB\n",
      "Anselin-Kelejian Test             1           4.017          0.0450\n",
      "================================ END OF REPORT =====================================\n"
     ]
    }
   ],
   "source": [
    "S2SLS2_sp = ps.spreg.GM_Lag(y,x,w=w,w_lags=2,spat_diag=True,\n",
    "                          name_y=y_name,name_x=x_names,\n",
    "                          name_w='baltim_k4',name_ds='baltim')\n",
    "print S2SLS2_sp.summary"
   ]
  },
  {
   "cell_type": "markdown",
   "metadata": {},
   "source": [
    "## Spatial Model with Lag and Error\n",
    "Or SAR-SAR\n",
    "\n",
    "$$\\mathbf{y}= \\rho \\mathbf{Wy} + \\mathbf{X} \\beta + \\mathbf{\\mu}$$\n",
    "$$\\mathbf{\\mu} = \\lambda \\mathbf{W \\mu} + \\mathbf{\\epsilon}$$"
   ]
  },
  {
   "cell_type": "code",
   "execution_count": 30,
   "metadata": {},
   "outputs": [],
   "source": [
    "ps.spreg.GM_Combo?"
   ]
  },
  {
   "cell_type": "code",
   "execution_count": 31,
   "metadata": {},
   "outputs": [
    {
     "name": "stdout",
     "output_type": "stream",
     "text": [
      "REGRESSION\n",
      "----------\n",
      "SUMMARY OF OUTPUT: SPATIALLY WEIGHTED TWO STAGE LEAST SQUARES\n",
      "-------------------------------------------------------------\n",
      "Data set            :      baltim\n",
      "Weights matrix      :   baltim_k4\n",
      "Dependent Variable  :       PRICE                Number of Observations:         211\n",
      "Mean dependent var  :     44.3072                Number of Variables   :          11\n",
      "S.D. dependent var  :     23.6061                Degrees of Freedom    :         200\n",
      "Pseudo R-squared    :      0.7055\n",
      "Spatial Pseudo R-squared:  0.6929\n",
      "\n",
      "------------------------------------------------------------------------------------\n",
      "            Variable     Coefficient       Std.Error     z-Statistic     Probability\n",
      "------------------------------------------------------------------------------------\n",
      "            CONSTANT       4.1878228       5.3374979       0.7846041       0.4326857\n",
      "               NROOM       0.3653342       1.0758344       0.3395822       0.7341712\n",
      "               NBATH       4.4258374       1.6904257       2.6181792       0.0088400\n",
      "               PATIO       8.0141539       2.6723173       2.9989530       0.0027091\n",
      "              FIREPL       7.1866424       2.4139327       2.9771511       0.0029094\n",
      "                  AC       6.4255075       2.3247053       2.7640095       0.0057096\n",
      "                 GAR       3.9487266       1.6914729       2.3344901       0.0195701\n",
      "                 AGE      -0.0935040       0.0483630      -1.9333808       0.0531893\n",
      "               LOTSZ       0.0646377       0.0145650       4.4378887       0.0000091\n",
      "                SQFT       0.0834666       0.1599691       0.5217669       0.6018326\n",
      "             W_PRICE       0.5140632       0.0713678       7.2030142       0.0000000\n",
      "              lambda      -0.2836206    \n",
      "------------------------------------------------------------------------------------\n",
      "Instrumented: W_PRICE\n",
      "Instruments: W_AC, W_AGE, W_FIREPL, W_GAR, W_LOTSZ, W_NBATH, W_NROOM,\n",
      "             W_PATIO, W_SQFT\n",
      "================================ END OF REPORT =====================================\n"
     ]
    }
   ],
   "source": [
    "combo1 = ps.spreg.GM_Combo(y,x,w=w,name_y=y_name,\n",
    "                       name_x=x_names,name_w=\"baltim_k4\",\n",
    "                       name_ds=\"baltim\")\n",
    "print combo1.summary"
   ]
  },
  {
   "cell_type": "markdown",
   "metadata": {},
   "source": [
    "## Spatial Error Model\n",
    "\n",
    "$$\\mathbf{y}= \\mathbf{X} \\beta + \\mathbf{\\mu}$$\n",
    "$$\\mathbf{\\mu} = \\lambda \\mathbf{W \\mu} + \\mathbf{\\epsilon}$$"
   ]
  },
  {
   "cell_type": "code",
   "execution_count": 32,
   "metadata": {},
   "outputs": [
    {
     "name": "stdout",
     "output_type": "stream",
     "text": [
      "REGRESSION\n",
      "----------\n",
      "SUMMARY OF OUTPUT: SPATIALLY WEIGHTED LEAST SQUARES\n",
      "---------------------------------------------------\n",
      "Data set            :      baltim\n",
      "Weights matrix      :   baltim_k4\n",
      "Dependent Variable  :       PRICE                Number of Observations:         211\n",
      "Mean dependent var  :     44.3072                Number of Variables   :          10\n",
      "S.D. dependent var  :     23.6061                Degrees of Freedom    :         201\n",
      "Pseudo R-squared    :      0.6489\n",
      "\n",
      "------------------------------------------------------------------------------------\n",
      "            Variable     Coefficient       Std.Error     z-Statistic     Probability\n",
      "------------------------------------------------------------------------------------\n",
      "            CONSTANT      21.6103217       5.0951325       4.2413660       0.0000222\n",
      "               NROOM       0.6898973       1.1618343       0.5938001       0.5526459\n",
      "               NBATH       6.0370628       1.9602958       3.0796693       0.0020723\n",
      "               PATIO       8.8977480       3.0253647       2.9410497       0.0032710\n",
      "              FIREPL      10.4688458       2.6260003       3.9866126       0.0000670\n",
      "                  AC       7.0637846       2.5987379       2.7181597       0.0065646\n",
      "                 GAR       4.6636919       1.9029848       2.4507248       0.0142569\n",
      "                 AGE      -0.1915275       0.0593256      -3.2284098       0.0012448\n",
      "               LOTSZ       0.0892867       0.0162250       5.5030242       0.0000000\n",
      "                SQFT       0.1380287       0.1837034       0.7513671       0.4524318\n",
      "              lambda       0.1975683    \n",
      "------------------------------------------------------------------------------------\n",
      "================================ END OF REPORT =====================================\n"
     ]
    }
   ],
   "source": [
    "sem = ps.spreg.GM_Error(y,x,w=w,name_y=y_name,\n",
    "                       name_x=x_names,name_w=\"baltim_k4\",\n",
    "                       name_ds=\"baltim\")\n",
    "print sem.summary"
   ]
  },
  {
   "cell_type": "code",
   "execution_count": null,
   "metadata": {},
   "outputs": [],
   "source": []
  },
  {
   "cell_type": "code",
   "execution_count": null,
   "metadata": {},
   "outputs": [],
   "source": []
  },
  {
   "cell_type": "markdown",
   "metadata": {},
   "source": [
    "## Practice##"
   ]
  },
  {
   "cell_type": "markdown",
   "metadata": {},
   "source": [
    "Create a regression object using the classic Harrison-Rubinfeld Boston house price data set (included as Boston.shp). Regression median house value (MEDV) on crime rate (CRIM), Charles river dummy (CHAS), nitric oxides (NOX), number of rooms (RM), age (AGE), weighted distance to five employment centers (DIS) and percent \"lower status population\" (LSTAT). A full description of the Boston data set is available on the GeoDa Center sample data set site.\n",
    "\n",
    "Use a k-nearest neighbor spatial weights (k = 4) for the spatial diagnostics.\n",
    "\n",
    "What is the most likely alternative spatial regression model, given the results of a spatial specification search.\n",
    "\n",
    "Try any other combinations of explanatory variables, spatial weights and standard error specifications."
   ]
  },
  {
   "cell_type": "code",
   "execution_count": null,
   "metadata": {},
   "outputs": [],
   "source": []
  },
  {
   "cell_type": "code",
   "execution_count": null,
   "metadata": {},
   "outputs": [],
   "source": []
  },
  {
   "cell_type": "code",
   "execution_count": null,
   "metadata": {},
   "outputs": [],
   "source": []
  },
  {
   "cell_type": "markdown",
   "metadata": {},
   "source": [
    "## Solutions"
   ]
  },
  {
   "cell_type": "code",
   "execution_count": 33,
   "metadata": {},
   "outputs": [
    {
     "data": {
      "text/plain": [
       "[u'POLY_ID',\n",
       " u'ID',\n",
       " u'TOWN',\n",
       " u'TOWNNO',\n",
       " u'TRACT',\n",
       " u'LON',\n",
       " u'LAT',\n",
       " u'x',\n",
       " u'y',\n",
       " u'MEDV',\n",
       " u'CMEDV',\n",
       " u'CRIM',\n",
       " u'ZN',\n",
       " u'INDUS',\n",
       " u'CHAS',\n",
       " u'NOX',\n",
       " u'RM',\n",
       " u'AGE',\n",
       " u'DIS',\n",
       " u'RAD',\n",
       " u'TAX',\n",
       " u'PTRATIO',\n",
       " u'B',\n",
       " u'LSTAT']"
      ]
     },
     "execution_count": 33,
     "metadata": {},
     "output_type": "execute_result"
    }
   ],
   "source": [
    "db = ps.open(\"data/Boston.dbf\",'r')\n",
    "db.header"
   ]
  },
  {
   "cell_type": "code",
   "execution_count": 34,
   "metadata": {},
   "outputs": [],
   "source": [
    "y_name = \"MEDV\"\n",
    "y = np.array([db.by_col(y_name)]).T"
   ]
  },
  {
   "cell_type": "code",
   "execution_count": 35,
   "metadata": {},
   "outputs": [],
   "source": [
    "x_names = [\"CRIM\",\"CHAS\",\"NOX\",\"RM\",\"AGE\",\"DIS\",\"LSTAT\"]\n",
    "x = np.array([db.by_col(var) for var in x_names]).T"
   ]
  },
  {
   "cell_type": "code",
   "execution_count": 36,
   "metadata": {},
   "outputs": [],
   "source": [
    "w = ps.knnW_from_shapefile('data/Boston.shp',k=4)"
   ]
  },
  {
   "cell_type": "code",
   "execution_count": 37,
   "metadata": {},
   "outputs": [],
   "source": [
    "ols1a = ps.spreg.OLS(y,x,w=w,spat_diag=True,moran=True, name_y=y_name,name_x=x_names, name_ds='Boston.shp')"
   ]
  },
  {
   "cell_type": "code",
   "execution_count": 38,
   "metadata": {},
   "outputs": [
    {
     "name": "stdout",
     "output_type": "stream",
     "text": [
      "REGRESSION\n",
      "----------\n",
      "SUMMARY OF OUTPUT: ORDINARY LEAST SQUARES\n",
      "-----------------------------------------\n",
      "Data set            :  Boston.shp\n",
      "Weights matrix      :     unknown\n",
      "Dependent Variable  :        MEDV                Number of Observations:         506\n",
      "Mean dependent var  :     22.5328                Number of Variables   :           8\n",
      "S.D. dependent var  :      9.1971                Degrees of Freedom    :         498\n",
      "R-squared           :      0.6788\n",
      "Adjusted R-squared  :      0.6743\n",
      "Sum squared residual:   13719.651                F-statistic           :    150.3613\n",
      "Sigma-square        :      27.550                Prob(F-statistic)     :  1.732e-118\n",
      "S.E. of regression  :       5.249                Log likelihood        :   -1552.895\n",
      "Sigma-square ML     :      27.114                Akaike info criterion :    3121.790\n",
      "S.E of regression ML:      5.2071                Schwarz criterion     :    3155.602\n",
      "\n",
      "------------------------------------------------------------------------------------\n",
      "            Variable     Coefficient       Std.Error     t-Statistic     Probability\n",
      "------------------------------------------------------------------------------------\n",
      "            CONSTANT      11.4725706       3.9048811       2.9380077       0.0034564\n",
      "                CRIM      -0.1074230       0.0315102      -3.4091522       0.0007045\n",
      "                CHAS       3.8639095       0.9385306       4.1169776       0.0000449\n",
      "                 NOX     -13.2572627       3.5597665      -3.7241945       0.0002183\n",
      "                  RM       4.9333429       0.4323621      11.4102121       0.0000000\n",
      "                 AGE      -0.0168636       0.0143248      -1.1772306       0.2396658\n",
      "                 DIS      -1.0649851       0.1931115      -5.5148716       0.0000001\n",
      "               LSTAT      -0.5746656       0.0547460     -10.4969367       0.0000000\n",
      "------------------------------------------------------------------------------------\n",
      "\n",
      "REGRESSION DIAGNOSTICS\n",
      "MULTICOLLINEARITY CONDITION NUMBER           47.587\n",
      "\n",
      "TEST ON NORMALITY OF ERRORS\n",
      "TEST                             DF        VALUE           PROB\n",
      "Jarque-Bera                       2         482.230           0.0000\n",
      "\n",
      "DIAGNOSTICS FOR HETEROSKEDASTICITY\n",
      "RANDOM COEFFICIENTS\n",
      "TEST                             DF        VALUE           PROB\n",
      "Breusch-Pagan test                7          97.286           0.0000\n",
      "Koenker-Bassett test              7          32.560           0.0000\n",
      "\n",
      "DIAGNOSTICS FOR SPATIAL DEPENDENCE\n",
      "TEST                           MI/DF       VALUE           PROB\n",
      "Moran's I (error)              0.4736        16.803           0.0000\n",
      "Lagrange Multiplier (lag)         1         167.220           0.0000\n",
      "Robust LM (lag)                   1           4.999           0.0254\n",
      "Lagrange Multiplier (error)       1         261.062           0.0000\n",
      "Robust LM (error)                 1          98.841           0.0000\n",
      "Lagrange Multiplier (SARMA)       2         266.061           0.0000\n",
      "\n",
      "================================ END OF REPORT =====================================\n"
     ]
    }
   ],
   "source": [
    "print(ols1a.summary)"
   ]
  },
  {
   "cell_type": "code",
   "execution_count": 39,
   "metadata": {},
   "outputs": [],
   "source": [
    "kw = ps.adaptive_kernelW_from_shapefile('data/Boston.shp',\n",
    "                                             k=12,diagonal=True)"
   ]
  },
  {
   "cell_type": "code",
   "execution_count": 40,
   "metadata": {},
   "outputs": [
    {
     "name": "stdout",
     "output_type": "stream",
     "text": [
      "REGRESSION\n",
      "----------\n",
      "SUMMARY OF OUTPUT: ORDINARY LEAST SQUARES\n",
      "-----------------------------------------\n",
      "Data set            :  Boston.shp\n",
      "Weights matrix      :     unknown\n",
      "Dependent Variable  :        MEDV                Number of Observations:         506\n",
      "Mean dependent var  :     22.5328                Number of Variables   :           8\n",
      "S.D. dependent var  :      9.1971                Degrees of Freedom    :         498\n",
      "R-squared           :      0.6788\n",
      "Adjusted R-squared  :      0.6743\n",
      "Sum squared residual:   13719.651                F-statistic           :    150.3613\n",
      "Sigma-square        :      27.550                Prob(F-statistic)     :  1.732e-118\n",
      "S.E. of regression  :       5.249                Log likelihood        :   -1552.895\n",
      "Sigma-square ML     :      27.114                Akaike info criterion :    3121.790\n",
      "S.E of regression ML:      5.2071                Schwarz criterion     :    3155.602\n",
      "\n",
      "HAC Standard Errors; Kernel Weights: Boston_tri_k12\n",
      "------------------------------------------------------------------------------------\n",
      "            Variable     Coefficient       Std.Error     t-Statistic     Probability\n",
      "------------------------------------------------------------------------------------\n",
      "            CONSTANT      11.4725706       9.1535525       1.2533462       0.2106678\n",
      "                CRIM      -0.1074230       0.0390349      -2.7519731       0.0061398\n",
      "                CHAS       3.8639095       1.4681591       2.6318056       0.0087567\n",
      "                 NOX     -13.2572627       4.9271588      -2.6906506       0.0073709\n",
      "                  RM       4.9333429       1.1433919       4.3146561       0.0000193\n",
      "                 AGE      -0.0168636       0.0214346      -0.7867480       0.4318037\n",
      "                 DIS      -1.0649851       0.2383633      -4.4679079       0.0000098\n",
      "               LSTAT      -0.5746656       0.1316164      -4.3662150       0.0000154\n",
      "------------------------------------------------------------------------------------\n",
      "\n",
      "REGRESSION DIAGNOSTICS\n",
      "MULTICOLLINEARITY CONDITION NUMBER           47.587\n",
      "\n",
      "TEST ON NORMALITY OF ERRORS\n",
      "TEST                             DF        VALUE           PROB\n",
      "Jarque-Bera                       2         482.230           0.0000\n",
      "\n",
      "DIAGNOSTICS FOR HETEROSKEDASTICITY\n",
      "RANDOM COEFFICIENTS\n",
      "TEST                             DF        VALUE           PROB\n",
      "Breusch-Pagan test                7          97.286           0.0000\n",
      "Koenker-Bassett test              7          32.560           0.0000\n",
      "\n",
      "DIAGNOSTICS FOR SPATIAL DEPENDENCE\n",
      "TEST                           MI/DF       VALUE           PROB\n",
      "Moran's I (error)              0.4736        16.803           0.0000\n",
      "Lagrange Multiplier (lag)         1         167.220           0.0000\n",
      "Robust LM (lag)                   1           4.999           0.0254\n",
      "Lagrange Multiplier (error)       1         261.062           0.0000\n",
      "Robust LM (error)                 1          98.841           0.0000\n",
      "Lagrange Multiplier (SARMA)       2         266.061           0.0000\n",
      "\n",
      "================================ END OF REPORT =====================================\n"
     ]
    }
   ],
   "source": [
    "ols6 = ps.spreg.OLS(y,x,w=w,spat_diag=True,moran=True,robust='hac',gwk=kw,\n",
    "                       name_y=y_name,name_x=x_names,\n",
    "                       name_gwk='Boston_tri_k12',name_ds='Boston.shp')\n",
    "print(ols6.summary)"
   ]
  },
  {
   "cell_type": "code",
   "execution_count": null,
   "metadata": {},
   "outputs": [],
   "source": []
  }
 ],
 "metadata": {
  "kernelspec": {
   "display_name": "Python 2",
   "language": "python",
   "name": "python2"
  },
  "language_info": {
   "codemirror_mode": {
    "name": "ipython",
    "version": 2
   },
   "file_extension": ".py",
   "mimetype": "text/x-python",
   "name": "python",
   "nbconvert_exporter": "python",
   "pygments_lexer": "ipython2",
   "version": "2.7.14"
  }
 },
 "nbformat": 4,
 "nbformat_minor": 1
}
