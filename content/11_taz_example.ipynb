{
 "cells": [
  {
   "cell_type": "code",
   "execution_count": null,
   "metadata": {
    "collapsed": false
   },
   "outputs": [],
   "source": [
    "import numpy as np\n",
    "import pysal as ps\n",
    "import random as rdm\n",
    "from pysal.contrib.viz import mapping as maps\n",
    "from matplotlib.collections import LineCollection\n",
    "%pylab inline"
   ]
  },
  {
   "cell_type": "code",
   "execution_count": null,
   "metadata": {
    "collapsed": false
   },
   "outputs": [],
   "source": [
    "shp = ps.open(ps.examples.get_path(\"taz.shp\"))"
   ]
  },
  {
   "cell_type": "code",
   "execution_count": null,
   "metadata": {
    "collapsed": false
   },
   "outputs": [],
   "source": [
    "dbf = ps.open(ps.examples.get_path(\"taz.dbf\"))\n",
    "              "
   ]
  },
  {
   "cell_type": "code",
   "execution_count": null,
   "metadata": {
    "collapsed": false
   },
   "outputs": [],
   "source": [
    "dbf.header"
   ]
  },
  {
   "cell_type": "code",
   "execution_count": null,
   "metadata": {
    "collapsed": false
   },
   "outputs": [],
   "source": [
    "fig = figure(figsize=(9,9))\n",
    "base = maps.map_poly_shp(shp)\n",
    "base.set_linewidth(0.75)\n",
    "base.set_facecolor('none')\n",
    "base.set_edgecolor('0.8')\n",
    "ax = maps.setup_ax([base], [shp.bbox])\n",
    "fig.add_axes(ax)\n",
    "show()"
   ]
  },
  {
   "cell_type": "markdown",
   "metadata": {},
   "source": [
    "## County as unique values"
   ]
  },
  {
   "cell_type": "code",
   "execution_count": null,
   "metadata": {
    "collapsed": false
   },
   "outputs": [],
   "source": [
    "cnty = np.array(dbf.by_col(\"CNTY\"))"
   ]
  },
  {
   "cell_type": "code",
   "execution_count": null,
   "metadata": {
    "collapsed": false
   },
   "outputs": [],
   "source": []
  },
  {
   "cell_type": "code",
   "execution_count": null,
   "metadata": {
    "collapsed": false
   },
   "outputs": [],
   "source": [
    "\n",
    "fig = figure(figsize=(9,9))\n",
    "base = maps.map_poly_shp(shp)\n",
    "base.set_linewidth(0.75)\n",
    "base.set_facecolor('none')\n",
    "base.set_edgecolor('0.8')\n",
    "counties = maps.base_choropleth_unique(maps.map_poly_shp(shp), cnty)\n",
    "counties.set_linewidth(0)\n",
    "counties.set_alpha(.5)\n",
    "ax = maps.setup_ax([base, counties],[shp.bbox, shp.bbox] )\n",
    "fig.add_axes(ax)\n",
    "show()\n"
   ]
  },
  {
   "cell_type": "code",
   "execution_count": null,
   "metadata": {
    "collapsed": false
   },
   "outputs": [],
   "source": [
    "cents = np.array([poly.centroid for poly in shp])\n",
    "cents[0]"
   ]
  },
  {
   "cell_type": "code",
   "execution_count": null,
   "metadata": {
    "collapsed": false
   },
   "outputs": [],
   "source": [
    "wrook = ps.rook_from_shapefile(ps.examples.get_path(\"taz.shp\"))"
   ]
  },
  {
   "cell_type": "code",
   "execution_count": null,
   "metadata": {
    "collapsed": false
   },
   "outputs": [],
   "source": [
    "w = wrook\n"
   ]
  },
  {
   "cell_type": "code",
   "execution_count": null,
   "metadata": {
    "collapsed": false
   },
   "outputs": [],
   "source": [
    "cents.min(axis=0)"
   ]
  },
  {
   "cell_type": "code",
   "execution_count": null,
   "metadata": {
    "collapsed": false
   },
   "outputs": [],
   "source": [
    "def w2line_graph(w, centroids):\n",
    "        \n",
    "    segments = []\n",
    "    for i in w.id2i:\n",
    "        origin = cents[i]\n",
    "        for j in w.neighbors[i]:\n",
    "            dest = cents[j]\n",
    "            ij = [i,j]\n",
    "            ij.sort()\n",
    "            segments.append([origin, dest])\n",
    "\n",
    "    return segments    \n",
    "\n",
    "        "
   ]
  },
  {
   "cell_type": "code",
   "execution_count": null,
   "metadata": {
    "collapsed": false
   },
   "outputs": [],
   "source": [
    "segs = w2line_graph(wrook, cents)"
   ]
  },
  {
   "cell_type": "code",
   "execution_count": null,
   "metadata": {
    "collapsed": false
   },
   "outputs": [],
   "source": [
    "type(segs)"
   ]
  },
  {
   "cell_type": "code",
   "execution_count": null,
   "metadata": {
    "collapsed": false
   },
   "outputs": [],
   "source": [
    "fig = figure(figsize=(9,9))\n",
    "base = maps.map_poly_shp(shp)\n",
    "base.set_linewidth(0.75)\n",
    "base.set_facecolor('none')\n",
    "base.set_edgecolor('0.8')\n",
    "segs = LineCollection(segs)\n",
    "#maps._add_axes2col(segs, shp.bbox)\n",
    "segs.set_linewidth(0.20)\n",
    "ax = maps.setup_ax([base, segs], [shp.bbox, shp.bbox])\n",
    "fig.add_axes(ax)\n",
    "show()\n"
   ]
  },
  {
   "cell_type": "code",
   "execution_count": null,
   "metadata": {
    "collapsed": true
   },
   "outputs": [],
   "source": []
  },
  {
   "cell_type": "markdown",
   "metadata": {},
   "source": [
    "## Intersection weights"
   ]
  },
  {
   "cell_type": "code",
   "execution_count": null,
   "metadata": {
    "collapsed": false
   },
   "outputs": [],
   "source": [
    "wb = ps.regime_weights(np.array(dbf.by_col(\"CNTY\")))"
   ]
  },
  {
   "cell_type": "code",
   "execution_count": null,
   "metadata": {
    "collapsed": false
   },
   "outputs": [],
   "source": [
    "wb.n"
   ]
  },
  {
   "cell_type": "code",
   "execution_count": null,
   "metadata": {
    "collapsed": false
   },
   "outputs": [],
   "source": [
    "wint = ps.weights.Wsets.w_intersection(wb, wrook)"
   ]
  },
  {
   "cell_type": "code",
   "execution_count": null,
   "metadata": {
    "collapsed": false
   },
   "outputs": [],
   "source": [
    "segs = w2line_graph(wint, cents)"
   ]
  },
  {
   "cell_type": "code",
   "execution_count": null,
   "metadata": {
    "collapsed": false
   },
   "outputs": [],
   "source": []
  },
  {
   "cell_type": "code",
   "execution_count": null,
   "metadata": {
    "collapsed": false
   },
   "outputs": [],
   "source": [
    "fig = figure(figsize=(9,9))\n",
    "base = maps.map_poly_shp(shp)\n",
    "base.set_linewidth(0.75)\n",
    "base.set_facecolor('none')\n",
    "base.set_edgecolor('0.8')\n",
    "segs = LineCollection(segs)\n",
    "#maps._add_axes2col(segs, shp.bbox)\n",
    "segs.set_linewidth(0.20)\n",
    "ax = maps.setup_ax([base, segs], [shp.bbox, shp.bbox, shp.bbox])\n",
    "fig.add_axes(ax)\n",
    "show()\n"
   ]
  },
  {
   "cell_type": "code",
   "execution_count": null,
   "metadata": {
    "collapsed": false
   },
   "outputs": [],
   "source": [
    "segments = w2line_graph(wint, cents)"
   ]
  },
  {
   "cell_type": "code",
   "execution_count": null,
   "metadata": {
    "collapsed": false
   },
   "outputs": [],
   "source": [
    "fig = figure(figsize=(9,9))\n",
    "base = maps.map_poly_shp(shp)\n",
    "base.set_linewidth(0.75)\n",
    "base.set_facecolor('none')\n",
    "base.set_edgecolor('0.8')\n",
    "counties = maps.base_choropleth_unique(maps.map_poly_shp(shp), cnty)\n",
    "counties.set_linewidth(0)\n",
    "counties.set_alpha(.5)\n",
    "segs = LineCollection(segments)\n",
    "#maps._add_axes2col(segs, shp.bbox)\n",
    "segs.set_linewidth(0.20)\n",
    "segs.set_color('0.1')\n",
    "ax = maps.setup_ax([base, counties, segs], [shp.bbox, shp.bbox, shp.bbox])\n",
    "fig.add_axes(ax)\n",
    "show()\n"
   ]
  },
  {
   "cell_type": "code",
   "execution_count": null,
   "metadata": {
    "collapsed": true
   },
   "outputs": [],
   "source": []
  },
  {
   "cell_type": "code",
   "execution_count": null,
   "metadata": {
    "collapsed": true
   },
   "outputs": [],
   "source": []
  },
  {
   "cell_type": "code",
   "execution_count": null,
   "metadata": {
    "collapsed": true
   },
   "outputs": [],
   "source": []
  },
  {
   "cell_type": "code",
   "execution_count": null,
   "metadata": {
    "collapsed": true
   },
   "outputs": [],
   "source": []
  },
  {
   "cell_type": "code",
   "execution_count": null,
   "metadata": {
    "collapsed": true
   },
   "outputs": [],
   "source": []
  },
  {
   "cell_type": "code",
   "execution_count": null,
   "metadata": {
    "collapsed": true
   },
   "outputs": [],
   "source": []
  },
  {
   "cell_type": "code",
   "execution_count": null,
   "metadata": {
    "collapsed": true
   },
   "outputs": [],
   "source": []
  }
 ],
 "metadata": {
  "anaconda-cloud": {},
  "kernelspec": {
   "display_name": "Python 2",
   "language": "python",
   "name": "python2"
  },
  "language_info": {
   "codemirror_mode": {
    "name": "ipython",
    "version": 2
   },
   "file_extension": ".py",
   "mimetype": "text/x-python",
   "name": "python",
   "nbconvert_exporter": "python",
   "pygments_lexer": "ipython2",
   "version": "2.7.12"
  }
 },
 "nbformat": 4,
 "nbformat_minor": 0
}
