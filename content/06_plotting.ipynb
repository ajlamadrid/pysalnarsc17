{
 "cells": [
  {
   "cell_type": "code",
   "execution_count": null,
   "metadata": {
    "collapsed": false
   },
   "outputs": [],
   "source": [
    "import numpy as np\n",
    "%pylab inline"
   ]
  },
  {
   "cell_type": "markdown",
   "metadata": {},
   "source": [
    "## X,Y Plots"
   ]
  },
  {
   "cell_type": "code",
   "execution_count": null,
   "metadata": {
    "collapsed": false
   },
   "outputs": [],
   "source": [
    "d = np.linspace(1,10,200)\n",
    "I = np.exp(-d)\n",
    "plot(d,I)"
   ]
  },
  {
   "cell_type": "code",
   "execution_count": null,
   "metadata": {
    "collapsed": false
   },
   "outputs": [],
   "source": [
    "d = np.linspace(1,10,200)\n",
    "I = np.exp(-d)\n",
    "plot(d,I)\n",
    "ylabel('I')\n",
    "xlabel('d')"
   ]
  },
  {
   "cell_type": "code",
   "execution_count": null,
   "metadata": {
    "collapsed": false
   },
   "outputs": [],
   "source": [
    "d = np.linspace(1,10,200)\n",
    "I = np.exp(-d)\n",
    "plot(d,I)\n",
    "ylabel(r'$I= \\exp(-d)$')\n",
    "xlabel('d')"
   ]
  },
  {
   "cell_type": "code",
   "execution_count": null,
   "metadata": {
    "collapsed": false
   },
   "outputs": [],
   "source": [
    "type(d)\n",
    "d[0:10]"
   ]
  },
  {
   "cell_type": "code",
   "execution_count": null,
   "metadata": {
    "collapsed": false
   },
   "outputs": [],
   "source": [
    "d = np.linspace(1,10,200)\n",
    "I = d**(-2)\n",
    "plot(d,I)\n",
    "ylabel(r'$I= 1 / d^2$')\n",
    "xlabel('d')"
   ]
  },
  {
   "cell_type": "code",
   "execution_count": null,
   "metadata": {
    "collapsed": false
   },
   "outputs": [],
   "source": [
    "d = np.linspace(1,10,200)\n",
    "Iid2 = d**(-2)\n",
    "plot(d,Iid2)\n",
    "ylabel(r'$I$')\n",
    "Inex = np.exp(-d)\n",
    "plot(d,Inex)\n",
    "xlabel('d')"
   ]
  },
  {
   "cell_type": "code",
   "execution_count": null,
   "metadata": {
    "collapsed": false
   },
   "outputs": [],
   "source": [
    "d = np.linspace(1,10,200)\n",
    "Iid2 = d**(-2)\n",
    "plot(d,Iid2, label = r'$I = d^{-2}$')\n",
    "ylabel(r'$I$')\n",
    "Inex = np.exp(-d)\n",
    "plot(d,Inex, label = r'$I = \\exp(-d)$')\n",
    "xlabel('d')\n",
    "legend()"
   ]
  },
  {
   "cell_type": "code",
   "execution_count": null,
   "metadata": {
    "collapsed": false
   },
   "outputs": [],
   "source": [
    "legend?"
   ]
  },
  {
   "cell_type": "code",
   "execution_count": null,
   "metadata": {
    "collapsed": false
   },
   "outputs": [],
   "source": [
    "d = np.linspace(1,10,200)\n",
    "Iid2 = d**(-2)\n",
    "plot(d,Iid2, 'r-', label = r'$I = d^{-2}$')\n",
    "ylabel(r'$I$')\n",
    "Inex = np.exp(-d)\n",
    "plot(d,Inex, 'g--',label = r'$I = \\exp(-d)$')\n",
    "xlabel('d')\n",
    "legend()"
   ]
  },
  {
   "cell_type": "code",
   "execution_count": null,
   "metadata": {
    "collapsed": false
   },
   "outputs": [],
   "source": [
    "d = np.linspace(1,10,200)\n",
    "Iid = d**(-1)\n",
    "plot(d,Iid, 'b-.', label = r'$I = d^{-1}$')\n",
    "Iid2 = d**(-2)\n",
    "plot(d,Iid2, 'r-', label = r'$I = d^{-2}$')\n",
    "ylabel(r'$I$')\n",
    "Inex = np.exp(-d)\n",
    "plot(d,Inex, 'g--',label = r'$I = \\exp(-d)$')\n",
    "xlabel('d')\n",
    "legend()\n",
    "title('Distance Decay')"
   ]
  },
  {
   "cell_type": "markdown",
   "metadata": {},
   "source": [
    "## Scatter Plot"
   ]
  },
  {
   "cell_type": "code",
   "execution_count": null,
   "metadata": {
    "collapsed": false
   },
   "outputs": [],
   "source": [
    "x = np.arange(100)\n",
    "y = 0.5 + np.random.normal(size=(100,))\n",
    "scatter(x,y)\n",
    "xlabel('x')\n",
    "ylabel('y')"
   ]
  },
  {
   "cell_type": "code",
   "execution_count": null,
   "metadata": {
    "collapsed": false
   },
   "outputs": [],
   "source": [
    "scatter(x,y)\n",
    "vlines(x.mean(),y.min(),y.max())\n",
    "hlines(x.min(),x.max(),y.mean())"
   ]
  },
  {
   "cell_type": "markdown",
   "metadata": {},
   "source": [
    "## Distributions and Densities"
   ]
  },
  {
   "cell_type": "code",
   "execution_count": null,
   "metadata": {
    "collapsed": false
   },
   "outputs": [],
   "source": [
    "import numpy as np\n",
    "\n",
    "x = np.random.multivariate_normal([100,70],[[2.,1.7],[1.7,2.]], (50))"
   ]
  },
  {
   "cell_type": "code",
   "execution_count": null,
   "metadata": {
    "collapsed": false
   },
   "outputs": [],
   "source": [
    "x"
   ]
  },
  {
   "cell_type": "code",
   "execution_count": null,
   "metadata": {
    "collapsed": false
   },
   "outputs": [],
   "source": [
    "plot(x)"
   ]
  },
  {
   "cell_type": "code",
   "execution_count": null,
   "metadata": {
    "collapsed": false
   },
   "outputs": [],
   "source": [
    "plot(x[:,0], x[:,1], \"o\")"
   ]
  },
  {
   "cell_type": "code",
   "execution_count": null,
   "metadata": {
    "collapsed": false
   },
   "outputs": [],
   "source": [
    "x0h = hist(x[:,0])"
   ]
  },
  {
   "cell_type": "code",
   "execution_count": null,
   "metadata": {
    "collapsed": false
   },
   "outputs": [],
   "source": [
    "x1h = hist(x[:,1])"
   ]
  },
  {
   "cell_type": "code",
   "execution_count": null,
   "metadata": {
    "collapsed": false
   },
   "outputs": [],
   "source": [
    "n,bins,bars = hist(x[:,1])\n",
    "\n",
    "y = normpdf(bins, mean(x[:,1]), std(x[:,1]))"
   ]
  },
  {
   "cell_type": "code",
   "execution_count": null,
   "metadata": {
    "collapsed": false
   },
   "outputs": [],
   "source": [
    "plot(bins,y)"
   ]
  },
  {
   "cell_type": "code",
   "execution_count": null,
   "metadata": {
    "collapsed": false
   },
   "outputs": [],
   "source": [
    "plot(bins,y)\n",
    "hist(x[:,1])"
   ]
  },
  {
   "cell_type": "code",
   "execution_count": null,
   "metadata": {
    "collapsed": false
   },
   "outputs": [],
   "source": [
    "plot(bins,y)\n",
    "hist(x[:,1],normed=1)"
   ]
  },
  {
   "cell_type": "markdown",
   "metadata": {},
   "source": [
    "## Saving to a file"
   ]
  },
  {
   "cell_type": "code",
   "execution_count": null,
   "metadata": {
    "collapsed": false
   },
   "outputs": [],
   "source": [
    "plot(bins,y)\n",
    "hist(x[:,1],normed=1)\n",
    "savefig(\"hist.png\")"
   ]
  },
  {
   "cell_type": "code",
   "execution_count": null,
   "metadata": {
    "collapsed": false
   },
   "outputs": [],
   "source": [
    "!ls *.png"
   ]
  },
  {
   "cell_type": "code",
   "execution_count": null,
   "metadata": {
    "collapsed": false
   },
   "outputs": [],
   "source": [
    "from scipy.stats import gaussian_kde"
   ]
  },
  {
   "cell_type": "code",
   "execution_count": null,
   "metadata": {
    "collapsed": false
   },
   "outputs": [],
   "source": [
    "y = x[:,1]\n",
    "density = gaussian_kde(y)\n"
   ]
  },
  {
   "cell_type": "code",
   "execution_count": null,
   "metadata": {
    "collapsed": false
   },
   "outputs": [],
   "source": [
    "xs = np.linspace(y.min(),y.max(),30)\n",
    "plot(xs, density(xs))\n",
    "xlabel('y')\n",
    "ylabel('f(y)')\n",
    "\n"
   ]
  },
  {
   "cell_type": "code",
   "execution_count": null,
   "metadata": {
    "collapsed": false
   },
   "outputs": [],
   "source": [
    "xs = np.linspace(y.min()*.8,y.max()*1.2,30)\n",
    "plot(xs, density(xs))\n",
    "xlabel('y')\n",
    "ylabel('f(y)')\n",
    "\n"
   ]
  },
  {
   "cell_type": "markdown",
   "metadata": {},
   "source": [
    "There is a lot more to matplotlib. One can visit the [gallery](http://matplotlib.org/gallery.html) and pull examples in to get a sense of what is possible, and how to adapt examples for your own purposes.\n",
    "\n"
   ]
  },
  {
   "cell_type": "code",
   "execution_count": null,
   "metadata": {
    "collapsed": false
   },
   "outputs": [],
   "source": []
  },
  {
   "cell_type": "code",
   "execution_count": null,
   "metadata": {
    "collapsed": true
   },
   "outputs": [],
   "source": []
  }
 ],
 "metadata": {
  "anaconda-cloud": {},
  "kernelspec": {
   "display_name": "Python 2",
   "language": "python",
   "name": "python2"
  },
  "language_info": {
   "codemirror_mode": {
    "name": "ipython",
    "version": 2
   },
   "file_extension": ".py",
   "mimetype": "text/x-python",
   "name": "python",
   "nbconvert_exporter": "python",
   "pygments_lexer": "ipython2",
   "version": "2.7.12"
  }
 },
 "nbformat": 4,
 "nbformat_minor": 0
}
