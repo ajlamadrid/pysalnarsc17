{
 "cells": [
  {
   "cell_type": "code",
   "execution_count": null,
   "metadata": {},
   "outputs": [],
   "source": [
    "import json"
   ]
  },
  {
   "cell_type": "code",
   "execution_count": null,
   "metadata": {},
   "outputs": [],
   "source": [
    "f = \"data/countries.geojson\"\n",
    "with open(f, 'r') as infile:\n",
    "    g = json.load(infile)"
   ]
  },
  {
   "cell_type": "code",
   "execution_count": null,
   "metadata": {},
   "outputs": [],
   "source": [
    "g.keys()"
   ]
  },
  {
   "cell_type": "code",
   "execution_count": null,
   "metadata": {},
   "outputs": [],
   "source": [
    "n_features = len(g['features'])\n",
    "n_features"
   ]
  },
  {
   "cell_type": "code",
   "execution_count": null,
   "metadata": {},
   "outputs": [],
   "source": [
    "polygons = []\n",
    "multipolygons = []\n",
    "for i, feature in enumerate(g['features']):\n",
    "    if feature['geometry']['type'] == 'Polygon':\n",
    "        n_p = len(feature['geometry']['coordinates'])\n",
    "        polygons.append((i,n_p))\n",
    "    elif feature['geometry']['type'] == 'MultiPolygon':\n",
    "        n_p = len(feature['geometry']['coordinates'])\n",
    "        multipolygons.append((i,n_p))"
   ]
  },
  {
   "cell_type": "code",
   "execution_count": null,
   "metadata": {},
   "outputs": [],
   "source": [
    "len(polygons)"
   ]
  },
  {
   "cell_type": "code",
   "execution_count": null,
   "metadata": {},
   "outputs": [],
   "source": [
    "len(multipolygons)"
   ]
  },
  {
   "cell_type": "code",
   "execution_count": null,
   "metadata": {},
   "outputs": [],
   "source": [
    "multipolygons[:5]"
   ]
  },
  {
   "cell_type": "code",
   "execution_count": null,
   "metadata": {},
   "outputs": [],
   "source": [
    "len(feature['geometry']['coordinates'][0])"
   ]
  },
  {
   "cell_type": "code",
   "execution_count": null,
   "metadata": {},
   "outputs": [],
   "source": [
    "c = feature['geometry']['coordinates']"
   ]
  },
  {
   "cell_type": "code",
   "execution_count": null,
   "metadata": {},
   "outputs": [],
   "source": [
    "feature.keys()"
   ]
  },
  {
   "cell_type": "code",
   "execution_count": null,
   "metadata": {},
   "outputs": [],
   "source": [
    "feature['properties']"
   ]
  },
  {
   "cell_type": "code",
   "execution_count": null,
   "metadata": {},
   "outputs": [],
   "source": [
    "feature['type']"
   ]
  },
  {
   "cell_type": "code",
   "execution_count": null,
   "metadata": {},
   "outputs": [],
   "source": [
    "feature['geometry']['type']"
   ]
  },
  {
   "cell_type": "code",
   "execution_count": null,
   "metadata": {},
   "outputs": [],
   "source": [
    "%pylab inline\n",
    "pylab.rcParams['figure.figsize'] = (10, 6)"
   ]
  },
  {
   "cell_type": "code",
   "execution_count": null,
   "metadata": {},
   "outputs": [],
   "source": [
    "from shapely.geometry import shape\n",
    "for feature in g['features']:\n",
    "    sf = shape(feature['geometry'])\n",
    "    if feature['geometry']['type'] == 'MultiPolygon':\n",
    "        for geom in sf.geoms:\n",
    "            plot(*geom.exterior.xy, color='grey')\n",
    "    else:\n",
    "        plot(*sf.exterior.xy, color='grey')"
   ]
  },
  {
   "cell_type": "code",
   "execution_count": null,
   "metadata": {},
   "outputs": [],
   "source": [
    "import pandas as pd\n",
    "participants2017 = pd.read_csv('data/participants2017.csv')"
   ]
  },
  {
   "cell_type": "code",
   "execution_count": null,
   "metadata": {},
   "outputs": [],
   "source": [
    "participants2017"
   ]
  },
  {
   "cell_type": "code",
   "execution_count": null,
   "metadata": {},
   "outputs": [],
   "source": [
    "for idx, p in participants2017.iterrows():\n",
    "    plot(p['lon'], p['lat'], '^')"
   ]
  },
  {
   "cell_type": "code",
   "execution_count": null,
   "metadata": {},
   "outputs": [],
   "source": [
    "from shapely.geometry import shape\n",
    "for feature in g['features']:\n",
    "    sf = shape(feature['geometry'])\n",
    "    if feature['geometry']['type'] == 'MultiPolygon':\n",
    "        for geom in sf.geoms:\n",
    "            plot(*geom.exterior.xy, color='grey')\n",
    "    else:\n",
    "        plot(*sf.exterior.xy, color='grey')\n",
    "    \n",
    "for idx, p in participants2017.iterrows():\n",
    "    plot(p['lon'], p['lat'], '^')     \n",
    "    "
   ]
  },
  {
   "cell_type": "code",
   "execution_count": null,
   "metadata": {},
   "outputs": [],
   "source": [
    "vancouver = (-123.120542, 49.285095)"
   ]
  },
  {
   "cell_type": "code",
   "execution_count": null,
   "metadata": {},
   "outputs": [],
   "source": [
    "import pyproj"
   ]
  },
  {
   "cell_type": "code",
   "execution_count": null,
   "metadata": {},
   "outputs": [],
   "source": [
    "pyproj.Geod?"
   ]
  },
  {
   "cell_type": "code",
   "execution_count": null,
   "metadata": {},
   "outputs": [],
   "source": [
    "geod = pyproj.Geod(ellps='WGS84')"
   ]
  },
  {
   "cell_type": "code",
   "execution_count": null,
   "metadata": {},
   "outputs": [],
   "source": [
    "gcd = geod.inv(vancouver[0], vancouver[1], 27.9977, -26.1836)\n",
    "gcd"
   ]
  },
  {
   "cell_type": "code",
   "execution_count": null,
   "metadata": {},
   "outputs": [],
   "source": [
    "gcd[-1] * 0.000621371"
   ]
  },
  {
   "cell_type": "code",
   "execution_count": null,
   "metadata": {},
   "outputs": [],
   "source": [
    "waypoints = geod.npts(vancouver[0], vancouver[1], 27.9977, -26.1836, 20)"
   ]
  },
  {
   "cell_type": "code",
   "execution_count": null,
   "metadata": {},
   "outputs": [],
   "source": [
    "waypoints"
   ]
  },
  {
   "cell_type": "code",
   "execution_count": null,
   "metadata": {},
   "outputs": [],
   "source": [
    "#route = [minn]\n",
    "route = [vancouver]\n",
    "route.extend(waypoints)\n",
    "route.append((27.9977, -26.1836))"
   ]
  },
  {
   "cell_type": "code",
   "execution_count": null,
   "metadata": {},
   "outputs": [],
   "source": [
    "route = np.array(route)"
   ]
  },
  {
   "cell_type": "code",
   "execution_count": null,
   "metadata": {},
   "outputs": [],
   "source": [
    "plot(route[:,0], route[:,1])"
   ]
  },
  {
   "cell_type": "code",
   "execution_count": null,
   "metadata": {},
   "outputs": [],
   "source": [
    "from shapely.geometry import shape\n",
    "for feature in g['features']:\n",
    "    sf = shape(feature['geometry'])\n",
    "    if feature['geometry']['type'] == 'MultiPolygon':\n",
    "        for geom in sf.geoms:\n",
    "            plot(*geom.exterior.xy, color='grey')\n",
    "    else:\n",
    "        plot(*sf.exterior.xy, color='grey')\n",
    "    \n",
    "for idx, p in participants2017.iterrows():\n",
    "    plot(p['lon'], p['lat'], '^')     \n",
    "\n",
    "plot(route[:,0], route[:,1])"
   ]
  },
  {
   "cell_type": "markdown",
   "metadata": {},
   "source": [
    "## On your own\n",
    "\n",
    "1. Calculate and plot the great circle routes bringing our participants to the workshop."
   ]
  },
  {
   "cell_type": "code",
   "execution_count": null,
   "metadata": {},
   "outputs": [],
   "source": []
  },
  {
   "cell_type": "code",
   "execution_count": null,
   "metadata": {},
   "outputs": [],
   "source": []
  },
  {
   "cell_type": "code",
   "execution_count": null,
   "metadata": {},
   "outputs": [],
   "source": []
  },
  {
   "cell_type": "code",
   "execution_count": null,
   "metadata": {},
   "outputs": [],
   "source": []
  },
  {
   "cell_type": "code",
   "execution_count": null,
   "metadata": {},
   "outputs": [],
   "source": []
  },
  {
   "cell_type": "code",
   "execution_count": null,
   "metadata": {},
   "outputs": [],
   "source": []
  },
  {
   "cell_type": "code",
   "execution_count": null,
   "metadata": {},
   "outputs": [],
   "source": []
  },
  {
   "cell_type": "code",
   "execution_count": null,
   "metadata": {},
   "outputs": [],
   "source": []
  },
  {
   "cell_type": "code",
   "execution_count": null,
   "metadata": {},
   "outputs": [],
   "source": []
  },
  {
   "cell_type": "code",
   "execution_count": null,
   "metadata": {},
   "outputs": [],
   "source": []
  },
  {
   "cell_type": "code",
   "execution_count": null,
   "metadata": {},
   "outputs": [],
   "source": []
  },
  {
   "cell_type": "code",
   "execution_count": null,
   "metadata": {},
   "outputs": [],
   "source": []
  },
  {
   "cell_type": "markdown",
   "metadata": {},
   "source": [
    "# Solution"
   ]
  },
  {
   "cell_type": "code",
   "execution_count": null,
   "metadata": {},
   "outputs": [],
   "source": [
    "import pandas as pd\n",
    "participants2017 = pd.read_csv('data/participants2017.csv')\n",
    "from shapely.geometry import shape\n",
    "for feature in g['features']:\n",
    "    sf = shape(feature['geometry'])\n",
    "    if feature['geometry']['type'] == 'MultiPolygon':\n",
    "        for geom in sf.geoms:\n",
    "            plot(*geom.exterior.xy, color='grey')\n",
    "    else:\n",
    "        plot(*sf.exterior.xy, color='grey')\n",
    "    \n",
    "for idx, p in participants2017.iterrows():\n",
    "    plot(p['lon'], p['lat'], '^', markerfacecolor='r', markeredgecolor='r')     \n",
    "\n",
    "\n",
    "for idx, p in participants2017.iterrows():\n",
    "    waypoints = geod.npts(vancouver[0], vancouver[1], p['lon'], p['lat'], 20)\n",
    "    route = [vancouver]\n",
    "    route.extend(waypoints)\n",
    "    route.append((p['lon'], p['lat']))\n",
    "    route = np.array(route)\n",
    "    plot(route[:,0], route[:,1], color='r')"
   ]
  },
  {
   "cell_type": "markdown",
   "metadata": {},
   "source": [
    "### Break the line"
   ]
  },
  {
   "cell_type": "code",
   "execution_count": null,
   "metadata": {},
   "outputs": [],
   "source": [
    "import pandas as pd\n",
    "participants2017 = pd.read_csv('data/participants2017.csv')\n",
    "from shapely.geometry import shape\n",
    "for feature in g['features']:\n",
    "    sf = shape(feature['geometry'])\n",
    "    if feature['geometry']['type'] == 'MultiPolygon':\n",
    "        for geom in sf.geoms:\n",
    "            plot(*geom.exterior.xy, color='grey')\n",
    "    else:\n",
    "        plot(*sf.exterior.xy, color='grey')\n",
    "    \n",
    "for idx, p in participants2017.iterrows():\n",
    "    plot(p['lon'], p['lat'], '^', markerfacecolor='r', markeredgecolor='r')     \n",
    "\n",
    "for idx, p in participants2017.iterrows():\n",
    "    waypoints = geod.npts(vancouver[0], vancouver[1], p['lon'], p['lat'], 20)\n",
    "    route = [vancouver]\n",
    "    route.extend(waypoints)\n",
    "    route.append((p['lon'], p['lat']))\n",
    "    route = np.array(route)\n",
    "    if (route[:,0].max()-route[:,0].min())>180:\n",
    "        min_index = route[:,0].argmin()+1\n",
    "        plot(route[:min_index,0], route[:min_index,1], color='r')\n",
    "        plot(route[min_index:,0], route[min_index:,1], color='r')\n",
    "        continue\n",
    "    plot(route[:,0], route[:,1], color='r')\n",
    "plot(vancouver[0],vancouver[1],  '*', markerfacecolor='y', markeredgecolor='r', markersize=12)"
   ]
  },
  {
   "cell_type": "markdown",
   "metadata": {
    "collapsed": true
   },
   "source": [
    "### Plot the great circle routes bringing our participants to the workshop in 2016"
   ]
  },
  {
   "cell_type": "code",
   "execution_count": null,
   "metadata": {},
   "outputs": [],
   "source": [
    "import pandas as pd\n",
    "participants2016 = pd.read_csv('data/participants2016.csv')\n",
    "minn = (-93.2550, 44.9778)\n",
    "from shapely.geometry import shape\n",
    "for feature in g['features']:\n",
    "    sf = shape(feature['geometry'])\n",
    "    if feature['geometry']['type'] == 'MultiPolygon':\n",
    "        for geom in sf.geoms:\n",
    "            plot(*geom.exterior.xy, color='grey')\n",
    "    else:\n",
    "        plot(*sf.exterior.xy, color='grey')\n",
    "    \n",
    "for idx, p in participants2016.iterrows():\n",
    "    plot(p['lon'], p['lat'], 'o', markerfacecolor='b', markeredgecolor='b')     \n",
    "\n",
    "\n",
    "for idx, p in participants2016.iterrows():\n",
    "    waypoints = geod.npts(minn[0], minn[1], p['lon'], p['lat'], 20)\n",
    "    route = [minn]\n",
    "    route.extend(waypoints)\n",
    "    route.append((p['lon'], p['lat']))\n",
    "    route = np.array(route)\n",
    "    plot(route[:,0], route[:,1], color='b')\n",
    "plot(minn[0],minn[1],  '*', markerfacecolor='y', markeredgecolor='b', markersize=12)"
   ]
  },
  {
   "cell_type": "markdown",
   "metadata": {},
   "source": [
    "### Plot the great circle routes bringing our participants to the workshop in 2016(blue) & 2017(red)"
   ]
  },
  {
   "cell_type": "code",
   "execution_count": null,
   "metadata": {},
   "outputs": [],
   "source": [
    "import pandas as pd\n",
    "participants2017 = pd.read_csv('data/participants2017.csv')\n",
    "participants2016 = pd.read_csv('data/participants2016.csv')\n",
    "vancouver = (-123.120542, 49.285095)\n",
    "minn = (-93.2550, 44.9778)\n",
    "from shapely.geometry import shape\n",
    "for feature in g['features']:\n",
    "    sf = shape(feature['geometry'])\n",
    "    if feature['geometry']['type'] == 'MultiPolygon':\n",
    "        for geom in sf.geoms:\n",
    "            plot(*geom.exterior.xy, color='grey')\n",
    "    else:\n",
    "        plot(*sf.exterior.xy, color='grey')\n",
    "    \n",
    "for idx, p in participants2016.iterrows():\n",
    "    plot(p['lon'], p['lat'], 'o', markerfacecolor='b', markeredgecolor='b')     \n",
    "    \n",
    "for idx, p in participants2017.iterrows():\n",
    "    plot(p['lon'], p['lat'], '^', markerfacecolor='r', markeredgecolor='r')     \n",
    "\n",
    "\n",
    "for idx, p in participants2016.iterrows():\n",
    "    waypoints = geod.npts(minn[0], minn[1], p['lon'], p['lat'], 20)\n",
    "    route = [minn]\n",
    "    route.extend(waypoints)\n",
    "    route.append((p['lon'], p['lat']))\n",
    "    route = np.array(route)\n",
    "    plot(route[:,0], route[:,1], color='b')\n",
    "\n",
    "for idx, p in participants2017.iterrows():\n",
    "    waypoints = geod.npts(vancouver[0], vancouver[1], p['lon'], p['lat'], 20)\n",
    "    route = [vancouver]\n",
    "    route.extend(waypoints)\n",
    "    route.append((p['lon'], p['lat']))\n",
    "    route = np.array(route)\n",
    "    if (route[:,0].max()-route[:,0].min())>180:\n",
    "        min_index = route[:,0].argmin()+1\n",
    "        plot(route[:min_index,0], route[:min_index,1], color='r')\n",
    "        plot(route[min_index:,0], route[min_index:,1], color='r')\n",
    "        continue\n",
    "    plot(route[:,0], route[:,1], color='r')\n",
    "plot(vancouver[0],vancouver[1],  '*', markerfacecolor='y', markeredgecolor='r', markersize=12)\n",
    "plot(minn[0],minn[1],  '*', markerfacecolor='y', markeredgecolor='b', markersize=12)"
   ]
  },
  {
   "cell_type": "code",
   "execution_count": null,
   "metadata": {},
   "outputs": [],
   "source": []
  }
 ],
 "metadata": {
  "anaconda-cloud": {},
  "kernelspec": {
   "display_name": "Python 2",
   "language": "python",
   "name": "python2"
  },
  "language_info": {
   "codemirror_mode": {
    "name": "ipython",
    "version": 2
   },
   "file_extension": ".py",
   "mimetype": "text/x-python",
   "name": "python",
   "nbconvert_exporter": "python",
   "pygments_lexer": "ipython2",
   "version": "2.7.14"
  }
 },
 "nbformat": 4,
 "nbformat_minor": 1
}
